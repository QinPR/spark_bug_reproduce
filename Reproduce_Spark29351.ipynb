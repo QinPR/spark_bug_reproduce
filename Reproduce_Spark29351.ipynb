{
 "cells": [
  {
   "attachments": {},
   "cell_type": "markdown",
   "metadata": {},
   "source": [
    "### Spark-29351 Reproduction\n",
    "---  \n",
    "#### Load Session Data"
   ]
  },
  {
   "cell_type": "code",
   "execution_count": null,
   "metadata": {
    "vscode": {
     "languageId": "plaintext"
    }
   },
   "outputs": [],
   "source": [
    "import scripts.session as session\n",
    "\n",
    "session_data = session.load()"
   ]
  },
  {
   "attachments": {},
   "cell_type": "markdown",
   "metadata": {},
   "source": [
    "#### Copy the code repo to node\n"
   ]
  },
  {
   "cell_type": "code",
   "execution_count": null,
   "metadata": {
    "vscode": {
     "languageId": "plaintext"
    }
   },
   "outputs": [],
   "source": [
    "from chi import ssh\n",
    "import scripts.ssh_helper as ssh_helper"
   ]
  },
  {
   "cell_type": "code",
   "execution_count": null,
   "metadata": {
    "vscode": {
     "languageId": "plaintext"
    }
   },
   "outputs": [],
   "source": [
    "# put the trovi to node\n",
    "\n",
    "with ssh.Remote(session_data[\"floating_ip\"]) as conn:\n",
    "    conn.run('sudo mkdir -p /mnt/spark-exp; sudo chown $USER -R /mnt; cd /mnt/spark-exp; rm -rf /mnt/spark-exp/spark_bug_reproduce; mkdir -p /mnt/spark-exp; cd /mnt/spark-exp; git clone https://github.com/QinPR/spark_bug_reproduce.git; cd spark_bug_reproduce; git checkout Bug29351')"
   ]
  },
  {
   "attachments": {},
   "cell_type": "markdown",
   "metadata": {},
   "source": [
    "### 1. Buggy Version\n",
    "#### 1.1. Set up the Spark evironment"
   ]
  },
  {
   "cell_type": "code",
   "execution_count": null,
   "metadata": {
    "vscode": {
     "languageId": "plaintext"
    }
   },
   "outputs": [],
   "source": [
    "with ssh.Remote(session_data[\"floating_ip\"]) as conn:\n",
    "    conn.run('cd /mnt/spark-exp/spark_bug_reproduce; bash set_spark_env.sh')"
   ]
  },
  {
   "attachments": {},
   "cell_type": "markdown",
   "metadata": {},
   "source": [
    "#### 1.2. Run the Reproduction Experiments"
   ]
  },
  {
   "cell_type": "code",
   "execution_count": null,
   "metadata": {
    "vscode": {
     "languageId": "plaintext"
    }
   },
   "outputs": [],
   "source": [
    "with ssh.Remote(session_data[\"floating_ip\"]) as conn:\n",
    "    conn.run('cd /mnt/spark-exp/spark_bug_reproduce; bash reproduce_bug29351.sh')"
   ]
  },
  {
   "attachments": {},
   "cell_type": "markdown",
   "metadata": {},
   "source": [
    "#### 1.3. Display Reproduction Graph [Buggy version]"
   ]
  },
  {
   "cell_type": "code",
   "execution_count": null,
   "metadata": {
    "vscode": {
     "languageId": "plaintext"
    }
   },
   "outputs": [],
   "source": [
    "import os\n",
    "\n",
    "def get_dir(conn, source, target):\n",
    "    ''' Downloads the contents of the source directory from the remote to the target path locally.\n",
    "        All subdirectories in source are created under target.\n",
    "    '''\n",
    "    if not os.path.exists(target):\n",
    "        os.makedirs(target)\n",
    "    \n",
    "    result = conn.run(f'ls -A {source}', hide=True)\n",
    "    for item in result.stdout.splitlines():\n",
    "        remote_path = f\"{source}/{item}\"\n",
    "        local_path = os.path.join(target, item)\n",
    "        \n",
    "        if conn.run(f'test -d {remote_path}', warn=True).ok:\n",
    "            if not os.path.exists(local_path):\n",
    "                os.makedirs(local_path)\n",
    "            get_dir(conn, remote_path, local_path)\n",
    "        else:\n",
    "            conn.get(remote_path, local_path)"
   ]
  },
  {
   "cell_type": "code",
   "execution_count": null,
   "metadata": {
    "vscode": {
     "languageId": "plaintext"
    }
   },
   "outputs": [],
   "source": [
    "from IPython.display import Image\n",
    "\n",
    "# Gather the resulting graph\n",
    "with ssh.Remote(session_data[\"floating_ip\"]) as conn:\n",
    "    conn.run('cd /mnt/spark-exp/spark_bug_reproduce; mkdir bug_plot; mv line_chart.png bug_plot/')\n",
    "    get_dir(conn, \"/mnt/spark-exp/spark_bug_reproduce/bug_plot\", \".\")\n",
    "\n",
    "Image(filename=\"./line_chart.png\")"
   ]
  },
  {
   "attachments": {},
   "cell_type": "markdown",
   "metadata": {},
   "source": [
    "### 2. Patched Version\n",
    "#### 2.1. Compile the Spark"
   ]
  },
  {
   "cell_type": "code",
   "execution_count": null,
   "metadata": {
    "vscode": {
     "languageId": "plaintext"
    }
   },
   "outputs": [],
   "source": [
    "with ssh.Remote(session_data[\"floating_ip\"]) as conn:\n",
    "    conn.run('sudo mkdir -p /mnt/spark-exp; sudo chown $USER -R /mnt; cd /mnt/spark-exp; rm -rf /mnt/spark-exp/spark_bug_reproduce; mkdir -p /mnt/spark-exp; cd /mnt/spark-exp; git clone https://github.com/QinPR/spark_bug_reproduce.git; cd spark_bug_reproduce; git checkout Bug29351_fix')\n",
    "\n",
    "\n",
    "with ssh.Remote(session_data[\"floating_ip\"]) as conn:\n",
    "    conn.run('cd /mnt/spark-exp/spark_bug_reproduce; git checkout Bug29351_fix; bash set_spark_env.sh')"
   ]
  },
  {
   "attachments": {},
   "cell_type": "markdown",
   "metadata": {},
   "source": [
    "#### 2.2. Run the Reproduction Experiments"
   ]
  },
  {
   "cell_type": "code",
   "execution_count": null,
   "metadata": {
    "vscode": {
     "languageId": "plaintext"
    }
   },
   "outputs": [],
   "source": [
    "with ssh.Remote(session_data[\"floating_ip\"]) as conn:\n",
    "    conn.run('cd /mnt/spark-exp/spark_bug_reproduce; bash reproduce_bug29351.sh')"
   ]
  },
  {
   "attachments": {},
   "cell_type": "markdown",
   "metadata": {},
   "source": [
    "#### 1.3. Display Reproduction Graph [Patched version]"
   ]
  },
  {
   "cell_type": "code",
   "execution_count": null,
   "metadata": {
    "vscode": {
     "languageId": "plaintext"
    }
   },
   "outputs": [],
   "source": [
    "from IPython.display import Image\n",
    "\n",
    "# Gather the resulting graph\n",
    "with ssh.Remote(session_data[\"floating_ip\"]) as conn:\n",
    "    conn.run('cd /mnt/spark-exp/spark_bug_reproduce; mkdir bug_plot; mv line_chart_fix.png bug_plot/')\n",
    "    get_dir(conn, \"/mnt/spark-exp/spark_bug_reproduce/bug_plot\", \".\")\n",
    "\n",
    "Image(filename=\"./line_chart_fix.png\")"
   ]
  }
 ],
 "metadata": {
  "language_info": {
   "name": "python"
  },
  "orig_nbformat": 4
 },
 "nbformat": 4,
 "nbformat_minor": 2
}
