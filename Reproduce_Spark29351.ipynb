{
 "cells": [
  {
   "attachments": {},
   "cell_type": "markdown",
   "metadata": {},
   "source": [
    "### Spark-29351 Reproduction\n",
    "---  \n",
    "#### Load Session Data"
   ]
  },
  {
   "cell_type": "code",
   "execution_count": null,
   "metadata": {
    "vscode": {
     "languageId": "plaintext"
    }
   },
   "outputs": [],
   "source": [
    "import scripts.session as session\n",
    "\n",
    "session_data = session.load()"
   ]
  },
  {
   "attachments": {},
   "cell_type": "markdown",
   "metadata": {},
   "source": [
    "#### Copy the code repo to node\n"
   ]
  },
  {
   "cell_type": "code",
   "execution_count": null,
   "metadata": {
    "vscode": {
     "languageId": "plaintext"
    }
   },
   "outputs": [],
   "source": [
    "from chi import ssh"
   ]
  },
  {
   "cell_type": "code",
   "execution_count": null,
   "metadata": {
    "vscode": {
     "languageId": "plaintext"
    }
   },
   "outputs": [],
   "source": [
    "# put the trovi to node\n",
    "\n",
    "with ssh.Remote(session_data[\"floating_ip\"]) as conn:\n",
    "    conn.run('sudo mkdir -p /mnt/spark-exp; sudo chown $USER -R /mnt; cd /mnt/spark-exp; rm -rf /mnt/spark-exp/spark_bug_reproduce; mkdir -p spark_bug_reproduce')\n",
    "    ssh_helper.put_dir(conn, \".\", \"flashnet-trovi\")\n",
    "    # uploading this whole directory to remote server"
   ]
  },
  {
   "attachments": {},
   "cell_type": "markdown",
   "metadata": {},
   "source": [
    "#### Set up the Spark evironment"
   ]
  },
  {
   "cell_type": "code",
   "execution_count": null,
   "metadata": {
    "vscode": {
     "languageId": "plaintext"
    }
   },
   "outputs": [],
   "source": [
    "with ssh.Remote(session_data[\"floating_ip\"]) as conn:\n",
    "    conn.run('cd /mnt/spark-exp/spark_bug_reproduce; bash set_spark_env.sh')"
   ]
  },
  {
   "attachments": {},
   "cell_type": "markdown",
   "metadata": {},
   "source": [
    "#### Run the Reproduction Experiments"
   ]
  },
  {
   "cell_type": "code",
   "execution_count": null,
   "metadata": {
    "vscode": {
     "languageId": "plaintext"
    }
   },
   "outputs": [],
   "source": [
    "with ssh.Remote(session_data[\"floating_ip\"]) as conn:\n",
    "    conn.run('cd /mnt/spark-exp/spark_bug_reproduce; bash reproduce_bug20351.sh')"
   ]
  },
  {
   "attachments": {},
   "cell_type": "markdown",
   "metadata": {},
   "source": [
    "#### Display Reproduction Graph"
   ]
  },
  {
   "cell_type": "code",
   "execution_count": null,
   "metadata": {
    "vscode": {
     "languageId": "plaintext"
    }
   },
   "outputs": [],
   "source": [
    "with ssh.Remote(session_data[\"floating_ip\"]) as conn:\n",
    "    ssh_helper.get_dir(conn, \"/mnt/spark-exp/spark_bug_reproduce/line_chart.png\", \".\")\n",
    "\n",
    "IPython.display.Image(filename=\"/mnt/spark-exp/spark_bug_reproduce/line_chart.png\")"
   ]
  }
 ],
 "metadata": {
  "language_info": {
   "name": "python"
  },
  "orig_nbformat": 4
 },
 "nbformat": 4,
 "nbformat_minor": 2
}
