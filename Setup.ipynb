{
 "cells": [
  {
   "attachments": {},
   "cell_type": "markdown",
   "id": "93b86f21-f97a-4f26-861d-1138d4ab434f",
   "metadata": {},
   "source": [
    "## Testbeds Reservation Guideline\n",
    "---\n",
    "\n",
    "### Let's Prepare the Testbeds SPARK-29351 Bug Reproduce.\n",
    "\n",
    "+ The Bug description is in: https://issues.apache.org/jira/browse/SPARK-29351\n",
    "+ We reproduce it on Chameleon site: `CHI@TACC`. gpu_mi100 machine.\n",
    "\n",
    "+ Please follow the bellowing guideline to reserve a corresponding node."
   ]
  },
  {
   "cell_type": "markdown",
   "id": "e86a1f81-6d4e-40f4-97c8-6e8bedd13be5",
   "metadata": {},
   "source": [
    "---"
   ]
  },
  {
   "attachments": {},
   "cell_type": "markdown",
   "id": "bffffcbf-204b-45af-9b48-f454a2ed681d",
   "metadata": {},
   "source": [
    "## Create experiment container\n",
    "\n",
    "This container provides the following:\n",
    "\n",
    "- One node of any types ([see all types](https://chameleoncloud.readthedocs.io/en/latest/technical/reservations.html#chameleon-node-types))\n",
    "- One public IP\n",
    "\n",
    "### Configuration\n",
    "\n",
    "Enter your project ID in the code block below, if you are not a member of `CHI-210849`."
   ]
  },
  {
   "cell_type": "code",
   "execution_count": null,
   "id": "46a7fa78-4e72-4e24-be88-227d9046a4c0",
   "metadata": {},
   "outputs": [],
   "source": [
    "import chi\n",
    "\n",
    "chi.use_site(\"CHI@TACC\")\n",
    "chi.set(\"project_name\", \"CHI-210849\")\n",
    "\n",
    "print(f'Using Project {chi.get(\"project_name\")}')"
   ]
  },
  {
   "cell_type": "code",
   "execution_count": 2,
   "id": "7e45e94e-3f29-4501-b62c-cc6782c25166",
   "metadata": {},
   "outputs": [],
   "source": [
    "import os\n",
    "\n",
    "USER = os.getenv('USER')"
   ]
  },
  {
   "cell_type": "markdown",
   "id": "49f2f3b6-1dad-4c99-9bd3-7605484127a7",
   "metadata": {},
   "source": [
    "### Create reservation\n",
    "\n",
    "Chameleon resources need to be reserved before they can be used. \n",
    "We will reserve one bare metal node and one public IP address, for right now.\n",
    "\n",
    "If you get an error such as \"no host available\", it may be the case that all of our nodes are reserved. Check the availiablility calendar to see if this is true:\n",
    "https://chi.uc.chameleoncloud.org/project/leases/calendar/host/\n",
    "\n",
    "It may take around a minute or so for your lease to become active."
   ]
  },
  {
   "cell_type": "code",
   "execution_count": null,
   "id": "0c82fd92-3b33-4737-9ced-0f04ffc94c0a",
   "metadata": {},
   "outputs": [],
   "source": [
    "import time\n",
    "import keystoneauth1, blazarclient\n",
    "from chi import lease\n",
    "\n",
    "reservations = []\n",
    "reservation_req_time = int(time.time())\n",
    "LEASE_KEY = f\"{USER}-gpu_mi100-{reservation_req_time}\"\n",
    "\n",
    "try:\n",
    "    print(f\"Creating lease with name = {LEASE_KEY}...\")\n",
    "    lease.add_fip_reservation(reservations, count=1)\n",
    "    lease.add_node_reservation(reservations, count=1)\n",
    "\n",
    "    start_date, end_date = lease.lease_duration(hours=3, days=0)\n",
    "\n",
    "    l = lease.create_lease(\n",
    "        LEASE_KEY, \n",
    "        reservations, \n",
    "        node_type=\"gpu_mi100\",\n",
    "        start_date=start_date, \n",
    "        end_date=end_date\n",
    "    )\n",
    "    lease_id = l[\"id\"]\n",
    "\n",
    "    print(\"Waiting for lease to start ...\")\n",
    "    lease.wait_for_active(lease_id)\n",
    "    print(\"Lease is now active!\")\n",
    "except keystoneauth1.exceptions.http.Unauthorized as e:\n",
    "    print(\"Unauthorized.\\nDid set your project name and and run the code in the first cell?\")\n",
    "except blazarclient.exception.BlazarClientException as e:\n",
    "    print(f\"There is an issue making the reservation. Please check the host calendar.\")\n",
    "    print(\"https://chi.tacc.chameleoncloud.org/project/leases/calendar/host/\")\n",
    "    print(e)\n",
    "except Exception as e:\n",
    "    print(\"An unexpected error happened.\")\n",
    "    print(e)"
   ]
  },
  {
   "cell_type": "markdown",
   "id": "bc2052fb-d840-4034-8921-7306e3a8eab9",
   "metadata": {},
   "source": [
    "### Provision bare metal node\n",
    "\n",
    "Next, we will launch the reserved node with an image. \n",
    "It will take approximately 10 minutes for the bare metal node to be successfully provisioned. \n",
    "\n",
    "This step takes the longest. First, our controller node must configure the requested node, which first sets up a deploy image. This image then downloads and copies the real image onto the hard drive, and the node is configured to reboot to the new OS. \n",
    "\n",
    "You can browse the images we offer in our appliance catalog: http://chameleoncloud.org/appliances"
   ]
  },
  {
   "cell_type": "code",
   "execution_count": null,
   "id": "526c44e5-0cd9-442b-987d-50a085040065",
   "metadata": {},
   "outputs": [],
   "source": [
    "from chi import server\n",
    "\n",
    "image = \"CC-Ubuntu20.04\"\n",
    "\n",
    "s = server.create_server(\n",
    "    LEASE_KEY, \n",
    "    image_name=image,\n",
    "    reservation_id=lease.get_node_reservation(lease_id)\n",
    ")\n",
    "\n",
    "print(\"Waiting for server to start ...\")\n",
    "server.wait_for_active(s.id)\n",
    "print(\"Done\")"
   ]
  },
  {
   "cell_type": "markdown",
   "id": "a804a0fe-bfb5-4ea1-9d08-5d214c8b5920",
   "metadata": {},
   "source": [
    "By default our node is only connected to a private network and thus not reachable over the internet or via Jupyter here. We need to associate a \"Floating IP\" to the node, which gives it the public address we reserved."
   ]
  },
  {
   "cell_type": "code",
   "execution_count": null,
   "id": "7309991a-12f1-4245-a152-e8f2bb311572",
   "metadata": {},
   "outputs": [],
   "source": [
    "floating_ip = lease.get_reserved_floating_ips(lease_id)[0]\n",
    "server.associate_floating_ip(s.id, floating_ip_address=floating_ip)\n",
    "\n",
    "print(f\"Waiting for SSH connectivity on {floating_ip} ...\")\n",
    "timeout = 60 * 2\n",
    "import socket\n",
    "import time\n",
    "# Repeatedly try to connect via SSH.\n",
    "start_time = time.perf_counter()\n",
    "while True:\n",
    "    try:\n",
    "        with socket.create_connection((floating_ip, 22), timeout=timeout):\n",
    "            print(\"Connection successful\")\n",
    "            break\n",
    "    except OSError as ex:\n",
    "        time.sleep(10)\n",
    "        if time.perf_counter() - start_time >= timeout:\n",
    "            print(f\"Timeout: after {timeout} seconds, could not connect via SSH. please wait until SSH is up and ready\")"
   ]
  },
  {
   "cell_type": "markdown",
   "id": "6ad50c9a-fd99-4269-8a2c-a383b80e376a",
   "metadata": {},
   "source": [
    "<br />\n",
    "\n",
    "## Saving Session\n",
    "\n",
    "<div class=\"alert alert-block alert-info\">Note: This is needed to pass variables between notebook files such as <b>floating_ip</b> and <b>reservation_id</b></div>"
   ]
  },
  {
   "cell_type": "code",
   "execution_count": null,
   "id": "7c2d61aa-6529-4315-905d-e8ea32554de9",
   "metadata": {},
   "outputs": [],
   "source": [
    "import scripts.session as session\n",
    "\n",
    "session.clear()\n",
    "session.save({ \"floating_ip\": floating_ip, \"reservation_id\": lease_id, \"server_id\": s.id })\n",
    "session.load()"
   ]
  }
 ],
 "metadata": {
  "kernelspec": {
   "display_name": "Python 3",
   "language": "python",
   "name": "python3"
  },
  "language_info": {
   "codemirror_mode": {
    "name": "ipython",
    "version": 3
   },
   "file_extension": ".py",
   "mimetype": "text/x-python",
   "name": "python",
   "nbconvert_exporter": "python",
   "pygments_lexer": "ipython3",
   "version": "3.8.10"
  },
  "vscode": {
   "interpreter": {
    "hash": "e7370f93d1d0cde622a1f8e1c04877d8463912d04d973331ad4851f04de6915a"
   }
  }
 },
 "nbformat": 4,
 "nbformat_minor": 5
}
